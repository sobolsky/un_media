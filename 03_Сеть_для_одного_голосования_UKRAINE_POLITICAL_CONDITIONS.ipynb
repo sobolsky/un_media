{
 "cells": [
  {
   "cell_type": "markdown",
   "metadata": {},
   "source": [
    "# 03 Сеть для одного голосования\n",
    "### UKRAINE--POLITICAL CONDITIONS"
   ]
  },
  {
   "cell_type": "code",
   "execution_count": 69,
   "metadata": {},
   "outputs": [],
   "source": [
    "import numpy as np\n",
    "import pandas as pd\n",
    "import matplotlib.pyplot as plt\n",
    "import networkx as nx\n",
    "\n",
    "from numpy.random import default_rng\n",
    "rng = default_rng()"
   ]
  },
  {
   "cell_type": "markdown",
   "metadata": {},
   "source": [
    "## 1. Читаем общую таблицу по голосованиям с диска"
   ]
  },
  {
   "cell_type": "code",
   "execution_count": 15,
   "metadata": {},
   "outputs": [
    {
     "data": {
      "text/html": [
       "<div>\n",
       "<style scoped>\n",
       "    .dataframe tbody tr th:only-of-type {\n",
       "        vertical-align: middle;\n",
       "    }\n",
       "\n",
       "    .dataframe tbody tr th {\n",
       "        vertical-align: top;\n",
       "    }\n",
       "\n",
       "    .dataframe thead th {\n",
       "        text-align: right;\n",
       "    }\n",
       "</style>\n",
       "<table border=\"1\" class=\"dataframe\">\n",
       "  <thead>\n",
       "    <tr style=\"text-align: right;\">\n",
       "      <th></th>\n",
       "      <th>Data</th>\n",
       "      <th>Resolution</th>\n",
       "      <th>Title</th>\n",
       "      <th>Uri</th>\n",
       "      <th>Tags</th>\n",
       "      <th>Topic</th>\n",
       "    </tr>\n",
       "  </thead>\n",
       "  <tbody>\n",
       "    <tr>\n",
       "      <th>0</th>\n",
       "      <td>2022-11-14</td>\n",
       "      <td>A/RES/ES-11/5</td>\n",
       "      <td>Furtherance of remedy and reparation for aggre...</td>\n",
       "      <td>https://digitallibrary.un.org/record/3994052</td>\n",
       "      <td>['russia', 'ukraine', 'war']</td>\n",
       "      <td>['UKRAINE--POLITICAL CONDITIONS']</td>\n",
       "    </tr>\n",
       "    <tr>\n",
       "      <th>1</th>\n",
       "      <td>2022-10-12</td>\n",
       "      <td>A/RES/ES-11/4</td>\n",
       "      <td>Territorial integrity of Ukraine : defending t...</td>\n",
       "      <td>https://digitallibrary.un.org/record/3990400</td>\n",
       "      <td>['russia', 'ukraine', 'war']</td>\n",
       "      <td>['UKRAINE--POLITICAL CONDITIONS']</td>\n",
       "    </tr>\n",
       "    <tr>\n",
       "      <th>2</th>\n",
       "      <td>2022-04-07</td>\n",
       "      <td>A/RES/ES-11/3</td>\n",
       "      <td>Suspension of the rights of membership of the ...</td>\n",
       "      <td>https://digitallibrary.un.org/record/3967778</td>\n",
       "      <td>['russia', 'ukraine', 'war']</td>\n",
       "      <td>['UKRAINE--POLITICAL CONDITIONS']</td>\n",
       "    </tr>\n",
       "    <tr>\n",
       "      <th>3</th>\n",
       "      <td>2022-03-24</td>\n",
       "      <td>A/RES/ES-11/2</td>\n",
       "      <td>Humanitarian consequences of the aggression ag...</td>\n",
       "      <td>https://digitallibrary.un.org/record/3965954</td>\n",
       "      <td>['russia', 'ukraine', 'war']</td>\n",
       "      <td>['UKRAINE--POLITICAL CONDITIONS']</td>\n",
       "    </tr>\n",
       "    <tr>\n",
       "      <th>4</th>\n",
       "      <td>2022-03-02</td>\n",
       "      <td>A/RES/ES-11/1</td>\n",
       "      <td>Aggression against Ukraine : resolution / adop...</td>\n",
       "      <td>https://digitallibrary.un.org/record/3959039</td>\n",
       "      <td>['russia', 'ukraine', 'war']</td>\n",
       "      <td>['UKRAINE--POLITICAL CONDITIONS']</td>\n",
       "    </tr>\n",
       "  </tbody>\n",
       "</table>\n",
       "</div>"
      ],
      "text/plain": [
       "         Data     Resolution  \\\n",
       "0  2022-11-14  A/RES/ES-11/5   \n",
       "1  2022-10-12  A/RES/ES-11/4   \n",
       "2  2022-04-07  A/RES/ES-11/3   \n",
       "3  2022-03-24  A/RES/ES-11/2   \n",
       "4  2022-03-02  A/RES/ES-11/1   \n",
       "\n",
       "                                               Title  \\\n",
       "0  Furtherance of remedy and reparation for aggre...   \n",
       "1  Territorial integrity of Ukraine : defending t...   \n",
       "2  Suspension of the rights of membership of the ...   \n",
       "3  Humanitarian consequences of the aggression ag...   \n",
       "4  Aggression against Ukraine : resolution / adop...   \n",
       "\n",
       "                                            Uri                          Tags  \\\n",
       "0  https://digitallibrary.un.org/record/3994052  ['russia', 'ukraine', 'war']   \n",
       "1  https://digitallibrary.un.org/record/3990400  ['russia', 'ukraine', 'war']   \n",
       "2  https://digitallibrary.un.org/record/3967778  ['russia', 'ukraine', 'war']   \n",
       "3  https://digitallibrary.un.org/record/3965954  ['russia', 'ukraine', 'war']   \n",
       "4  https://digitallibrary.un.org/record/3959039  ['russia', 'ukraine', 'war']   \n",
       "\n",
       "                               Topic  \n",
       "0  ['UKRAINE--POLITICAL CONDITIONS']  \n",
       "1  ['UKRAINE--POLITICAL CONDITIONS']  \n",
       "2  ['UKRAINE--POLITICAL CONDITIONS']  \n",
       "3  ['UKRAINE--POLITICAL CONDITIONS']  \n",
       "4  ['UKRAINE--POLITICAL CONDITIONS']  "
      ]
     },
     "execution_count": 15,
     "metadata": {},
     "output_type": "execute_result"
    }
   ],
   "source": [
    "votes_table_com = pd.read_csv('votes_table.csv')\n",
    "votes_table_com"
   ]
  },
  {
   "cell_type": "markdown",
   "metadata": {},
   "source": [
    "## 2. Data processing"
   ]
  },
  {
   "cell_type": "code",
   "execution_count": 1565,
   "metadata": {},
   "outputs": [],
   "source": [
    "# редактирование таблицы\n",
    "# votes_table_com.drop([0, 1])"
   ]
  },
  {
   "cell_type": "markdown",
   "metadata": {},
   "source": [
    "## 3. Net making"
   ]
  },
  {
   "cell_type": "code",
   "execution_count": 88,
   "metadata": {},
   "outputs": [],
   "source": [
    "resolution_index = 4"
   ]
  },
  {
   "cell_type": "code",
   "execution_count": 89,
   "metadata": {
    "scrolled": true
   },
   "outputs": [
    {
     "data": {
      "text/html": [
       "<div>\n",
       "<style scoped>\n",
       "    .dataframe tbody tr th:only-of-type {\n",
       "        vertical-align: middle;\n",
       "    }\n",
       "\n",
       "    .dataframe tbody tr th {\n",
       "        vertical-align: top;\n",
       "    }\n",
       "\n",
       "    .dataframe thead th {\n",
       "        text-align: right;\n",
       "    }\n",
       "</style>\n",
       "<table border=\"1\" class=\"dataframe\">\n",
       "  <thead>\n",
       "    <tr style=\"text-align: right;\">\n",
       "      <th></th>\n",
       "      <th>A/RES/ES-11/1</th>\n",
       "    </tr>\n",
       "    <tr>\n",
       "      <th>Country</th>\n",
       "      <th></th>\n",
       "    </tr>\n",
       "  </thead>\n",
       "  <tbody>\n",
       "    <tr>\n",
       "      <th>AFGHANISTAN</th>\n",
       "      <td>1.0</td>\n",
       "    </tr>\n",
       "    <tr>\n",
       "      <th>ALBANIA</th>\n",
       "      <td>1.0</td>\n",
       "    </tr>\n",
       "    <tr>\n",
       "      <th>ALGERIA</th>\n",
       "      <td>0.0</td>\n",
       "    </tr>\n",
       "    <tr>\n",
       "      <th>ANDORRA</th>\n",
       "      <td>1.0</td>\n",
       "    </tr>\n",
       "    <tr>\n",
       "      <th>ANGOLA</th>\n",
       "      <td>0.0</td>\n",
       "    </tr>\n",
       "    <tr>\n",
       "      <th>...</th>\n",
       "      <td>...</td>\n",
       "    </tr>\n",
       "    <tr>\n",
       "      <th>VENEZUELA (BOLIVARIAN REPUBLIC OF)</th>\n",
       "      <td>NaN</td>\n",
       "    </tr>\n",
       "    <tr>\n",
       "      <th>VIET NAM</th>\n",
       "      <td>0.0</td>\n",
       "    </tr>\n",
       "    <tr>\n",
       "      <th>YEMEN</th>\n",
       "      <td>1.0</td>\n",
       "    </tr>\n",
       "    <tr>\n",
       "      <th>ZAMBIA</th>\n",
       "      <td>1.0</td>\n",
       "    </tr>\n",
       "    <tr>\n",
       "      <th>ZIMBABWE</th>\n",
       "      <td>0.0</td>\n",
       "    </tr>\n",
       "  </tbody>\n",
       "</table>\n",
       "<p>193 rows × 1 columns</p>\n",
       "</div>"
      ],
      "text/plain": [
       "                                    A/RES/ES-11/1\n",
       "Country                                          \n",
       "AFGHANISTAN                                   1.0\n",
       "ALBANIA                                       1.0\n",
       "ALGERIA                                       0.0\n",
       "ANDORRA                                       1.0\n",
       "ANGOLA                                        0.0\n",
       "...                                           ...\n",
       "VENEZUELA (BOLIVARIAN REPUBLIC OF)            NaN\n",
       "VIET NAM                                      0.0\n",
       "YEMEN                                         1.0\n",
       "ZAMBIA                                        1.0\n",
       "ZIMBABWE                                      0.0\n",
       "\n",
       "[193 rows x 1 columns]"
      ]
     },
     "execution_count": 89,
     "metadata": {},
     "output_type": "execute_result"
    }
   ],
   "source": [
    "# Читаем таблицу голосования по индексу в votes_table_com\n",
    "common_table = pd.read_csv(\n",
    "    'resolution_vote/' + votes_table_com['Resolution'][resolution_index]\n",
    "    .replace('/', '_') + '.csv', \n",
    "    index_col=['Country']\n",
    ")\n",
    "common_table"
   ]
  },
  {
   "cell_type": "code",
   "execution_count": 90,
   "metadata": {},
   "outputs": [
    {
     "data": {
      "text/html": [
       "<div>\n",
       "<style scoped>\n",
       "    .dataframe tbody tr th:only-of-type {\n",
       "        vertical-align: middle;\n",
       "    }\n",
       "\n",
       "    .dataframe tbody tr th {\n",
       "        vertical-align: top;\n",
       "    }\n",
       "\n",
       "    .dataframe thead th {\n",
       "        text-align: right;\n",
       "    }\n",
       "</style>\n",
       "<table border=\"1\" class=\"dataframe\">\n",
       "  <thead>\n",
       "    <tr style=\"text-align: right;\">\n",
       "      <th></th>\n",
       "      <th>A/RES/ES-11/1</th>\n",
       "    </tr>\n",
       "    <tr>\n",
       "      <th>Country</th>\n",
       "      <th></th>\n",
       "    </tr>\n",
       "  </thead>\n",
       "  <tbody>\n",
       "    <tr>\n",
       "      <th>AFGHANISTAN</th>\n",
       "      <td>1.0</td>\n",
       "    </tr>\n",
       "    <tr>\n",
       "      <th>ALBANIA</th>\n",
       "      <td>1.0</td>\n",
       "    </tr>\n",
       "    <tr>\n",
       "      <th>ALGERIA</th>\n",
       "      <td>0.0</td>\n",
       "    </tr>\n",
       "    <tr>\n",
       "      <th>ANDORRA</th>\n",
       "      <td>1.0</td>\n",
       "    </tr>\n",
       "    <tr>\n",
       "      <th>ANGOLA</th>\n",
       "      <td>0.0</td>\n",
       "    </tr>\n",
       "  </tbody>\n",
       "</table>\n",
       "</div>"
      ],
      "text/plain": [
       "             A/RES/ES-11/1\n",
       "Country                   \n",
       "AFGHANISTAN            1.0\n",
       "ALBANIA                1.0\n",
       "ALGERIA                0.0\n",
       "ANDORRA                1.0\n",
       "ANGOLA                 0.0"
      ]
     },
     "execution_count": 90,
     "metadata": {},
     "output_type": "execute_result"
    }
   ],
   "source": [
    "common_table.head()"
   ]
  },
  {
   "cell_type": "code",
   "execution_count": 91,
   "metadata": {},
   "outputs": [
    {
     "data": {
      "text/plain": [
       "193"
      ]
     },
     "execution_count": 91,
     "metadata": {},
     "output_type": "execute_result"
    }
   ],
   "source": [
    "len(common_table.index)"
   ]
  },
  {
   "cell_type": "markdown",
   "metadata": {},
   "source": [
    "### 3.2 Убираем разное написание Турции"
   ]
  },
  {
   "cell_type": "code",
   "execution_count": 92,
   "metadata": {},
   "outputs": [
    {
     "data": {
      "text/html": [
       "<div>\n",
       "<style scoped>\n",
       "    .dataframe tbody tr th:only-of-type {\n",
       "        vertical-align: middle;\n",
       "    }\n",
       "\n",
       "    .dataframe tbody tr th {\n",
       "        vertical-align: top;\n",
       "    }\n",
       "\n",
       "    .dataframe thead th {\n",
       "        text-align: right;\n",
       "    }\n",
       "</style>\n",
       "<table border=\"1\" class=\"dataframe\">\n",
       "  <thead>\n",
       "    <tr style=\"text-align: right;\">\n",
       "      <th></th>\n",
       "      <th>A/RES/ES-11/1</th>\n",
       "    </tr>\n",
       "    <tr>\n",
       "      <th>Country</th>\n",
       "      <th></th>\n",
       "    </tr>\n",
       "  </thead>\n",
       "  <tbody>\n",
       "    <tr>\n",
       "      <th>TURKEY</th>\n",
       "      <td>1.0</td>\n",
       "    </tr>\n",
       "  </tbody>\n",
       "</table>\n",
       "</div>"
      ],
      "text/plain": [
       "         A/RES/ES-11/1\n",
       "Country               \n",
       "TURKEY             1.0"
      ]
     },
     "execution_count": 92,
     "metadata": {},
     "output_type": "execute_result"
    }
   ],
   "source": [
    "common_table[common_table.index == 'TURKEY']"
   ]
  },
  {
   "cell_type": "code",
   "execution_count": 93,
   "metadata": {},
   "outputs": [
    {
     "data": {
      "text/html": [
       "<div>\n",
       "<style scoped>\n",
       "    .dataframe tbody tr th:only-of-type {\n",
       "        vertical-align: middle;\n",
       "    }\n",
       "\n",
       "    .dataframe tbody tr th {\n",
       "        vertical-align: top;\n",
       "    }\n",
       "\n",
       "    .dataframe thead th {\n",
       "        text-align: right;\n",
       "    }\n",
       "</style>\n",
       "<table border=\"1\" class=\"dataframe\">\n",
       "  <thead>\n",
       "    <tr style=\"text-align: right;\">\n",
       "      <th></th>\n",
       "      <th>A/RES/ES-11/1</th>\n",
       "    </tr>\n",
       "    <tr>\n",
       "      <th>Country</th>\n",
       "      <th></th>\n",
       "    </tr>\n",
       "  </thead>\n",
       "  <tbody>\n",
       "  </tbody>\n",
       "</table>\n",
       "</div>"
      ],
      "text/plain": [
       "Empty DataFrame\n",
       "Columns: [A/RES/ES-11/1]\n",
       "Index: []"
      ]
     },
     "execution_count": 93,
     "metadata": {},
     "output_type": "execute_result"
    }
   ],
   "source": [
    "common_table[common_table.index == 'TURKIYE']"
   ]
  },
  {
   "cell_type": "code",
   "execution_count": 94,
   "metadata": {},
   "outputs": [
    {
     "data": {
      "text/html": [
       "<div>\n",
       "<style scoped>\n",
       "    .dataframe tbody tr th:only-of-type {\n",
       "        vertical-align: middle;\n",
       "    }\n",
       "\n",
       "    .dataframe tbody tr th {\n",
       "        vertical-align: top;\n",
       "    }\n",
       "\n",
       "    .dataframe thead th {\n",
       "        text-align: right;\n",
       "    }\n",
       "</style>\n",
       "<table border=\"1\" class=\"dataframe\">\n",
       "  <thead>\n",
       "    <tr style=\"text-align: right;\">\n",
       "      <th></th>\n",
       "      <th>A/RES/ES-11/1</th>\n",
       "    </tr>\n",
       "    <tr>\n",
       "      <th>Country</th>\n",
       "      <th></th>\n",
       "    </tr>\n",
       "  </thead>\n",
       "  <tbody>\n",
       "  </tbody>\n",
       "</table>\n",
       "</div>"
      ],
      "text/plain": [
       "Empty DataFrame\n",
       "Columns: [A/RES/ES-11/1]\n",
       "Index: []"
      ]
     },
     "execution_count": 94,
     "metadata": {},
     "output_type": "execute_result"
    }
   ],
   "source": [
    "common_table[common_table.index == 'TÜRKIYE']"
   ]
  },
  {
   "cell_type": "code",
   "execution_count": 85,
   "metadata": {},
   "outputs": [],
   "source": [
    "#list(common_table[(common_table.index == 'TURKEY') + (common_table.index == 'TURKIYE') + (common_table.index == 'TÜRKIYE')].sum())"
   ]
  },
  {
   "cell_type": "code",
   "execution_count": 98,
   "metadata": {},
   "outputs": [],
   "source": [
    "common_table.loc['TURKIYE'] = common_table.loc[['TURKEY'], list(common_table.columns)].sum()\n",
    "common_table.drop(['TURKEY'], inplace = True)"
   ]
  },
  {
   "cell_type": "code",
   "execution_count": 99,
   "metadata": {},
   "outputs": [
    {
     "data": {
      "text/html": [
       "<div>\n",
       "<style scoped>\n",
       "    .dataframe tbody tr th:only-of-type {\n",
       "        vertical-align: middle;\n",
       "    }\n",
       "\n",
       "    .dataframe tbody tr th {\n",
       "        vertical-align: top;\n",
       "    }\n",
       "\n",
       "    .dataframe thead th {\n",
       "        text-align: right;\n",
       "    }\n",
       "</style>\n",
       "<table border=\"1\" class=\"dataframe\">\n",
       "  <thead>\n",
       "    <tr style=\"text-align: right;\">\n",
       "      <th></th>\n",
       "      <th>A/RES/ES-11/1</th>\n",
       "    </tr>\n",
       "    <tr>\n",
       "      <th>Country</th>\n",
       "      <th></th>\n",
       "    </tr>\n",
       "  </thead>\n",
       "  <tbody>\n",
       "    <tr>\n",
       "      <th>TURKIYE</th>\n",
       "      <td>1.0</td>\n",
       "    </tr>\n",
       "  </tbody>\n",
       "</table>\n",
       "</div>"
      ],
      "text/plain": [
       "         A/RES/ES-11/1\n",
       "Country               \n",
       "TURKIYE            1.0"
      ]
     },
     "execution_count": 99,
     "metadata": {},
     "output_type": "execute_result"
    }
   ],
   "source": [
    "common_table.loc[[\"TURKIYE\"], list(common_table.columns)]"
   ]
  },
  {
   "cell_type": "markdown",
   "metadata": {},
   "source": [
    "### 3.3 Простая сети по одому голосованию "
   ]
  },
  {
   "cell_type": "code",
   "execution_count": 100,
   "metadata": {},
   "outputs": [],
   "source": [
    "# принимает таблицу с рещультатами голосования common_table\n",
    "# возвращает два массива c парной узлов (ребром)\n",
    "\n",
    "def get_edges(table):\n",
    "    nodes_1 = []\n",
    "    nodes_2 = []\n",
    "    count_index = len(common_table.index)\n",
    "    \n",
    "    for index_first in range(0, count_index-1):\n",
    "        for index_second in range(index_first+1, count_index):\n",
    "\n",
    "            nodes_1.append(table.index[index_first])\n",
    "            nodes_2.append(table.index[index_second])\n",
    "        \n",
    "    return [nodes_1, nodes_2]"
   ]
  },
  {
   "cell_type": "code",
   "execution_count": 101,
   "metadata": {},
   "outputs": [],
   "source": [
    "# принимает таблицу с результатами голосования из common_table и название расчетного столбца голосования \n",
    "# возвращает массив оценки солидарности шголосования solid_val\n",
    "\n",
    "def get_solid_val(table, item):\n",
    "    solid_val = []\n",
    "    count_index = len(table.index)\n",
    "    \n",
    "    for index_first in range(0, count_index-1):\n",
    "        for index_second in range(index_first+1, count_index):\n",
    "            \n",
    "            # сравнение индексов голосования\n",
    "            if (pd.isnull(table.iloc[index_first][item]) or pd.isnull(table.iloc[index_second][item])): \n",
    "                solid_val.append(np.nan) \n",
    "            else: \n",
    "                # Это значит, что если оба воздержались, то 0 == 0 это True\n",
    "                solid_val.append(table.iloc[index_first][item] == table.iloc[index_second][item])\n",
    "                # Нужно ли давать 1 если 1 == 1, -1 если -1 == -1... как быть с 0?\n",
    "            \n",
    "    return solid_val"
   ]
  },
  {
   "cell_type": "code",
   "execution_count": 102,
   "metadata": {},
   "outputs": [
    {
     "data": {
      "text/html": [
       "<div>\n",
       "<style scoped>\n",
       "    .dataframe tbody tr th:only-of-type {\n",
       "        vertical-align: middle;\n",
       "    }\n",
       "\n",
       "    .dataframe tbody tr th {\n",
       "        vertical-align: top;\n",
       "    }\n",
       "\n",
       "    .dataframe thead th {\n",
       "        text-align: right;\n",
       "    }\n",
       "</style>\n",
       "<table border=\"1\" class=\"dataframe\">\n",
       "  <thead>\n",
       "    <tr style=\"text-align: right;\">\n",
       "      <th></th>\n",
       "      <th>Nodes_1</th>\n",
       "      <th>Nodes_2</th>\n",
       "      <th>A/RES/ES-11/1</th>\n",
       "    </tr>\n",
       "  </thead>\n",
       "  <tbody>\n",
       "    <tr>\n",
       "      <th>0</th>\n",
       "      <td>AFGHANISTAN</td>\n",
       "      <td>ALBANIA</td>\n",
       "      <td>True</td>\n",
       "    </tr>\n",
       "    <tr>\n",
       "      <th>1</th>\n",
       "      <td>AFGHANISTAN</td>\n",
       "      <td>ALGERIA</td>\n",
       "      <td>False</td>\n",
       "    </tr>\n",
       "    <tr>\n",
       "      <th>2</th>\n",
       "      <td>AFGHANISTAN</td>\n",
       "      <td>ANDORRA</td>\n",
       "      <td>True</td>\n",
       "    </tr>\n",
       "    <tr>\n",
       "      <th>3</th>\n",
       "      <td>AFGHANISTAN</td>\n",
       "      <td>ANGOLA</td>\n",
       "      <td>False</td>\n",
       "    </tr>\n",
       "    <tr>\n",
       "      <th>4</th>\n",
       "      <td>AFGHANISTAN</td>\n",
       "      <td>ANTIGUA AND BARBUDA</td>\n",
       "      <td>True</td>\n",
       "    </tr>\n",
       "    <tr>\n",
       "      <th>...</th>\n",
       "      <td>...</td>\n",
       "      <td>...</td>\n",
       "      <td>...</td>\n",
       "    </tr>\n",
       "    <tr>\n",
       "      <th>18523</th>\n",
       "      <td>YEMEN</td>\n",
       "      <td>ZIMBABWE</td>\n",
       "      <td>False</td>\n",
       "    </tr>\n",
       "    <tr>\n",
       "      <th>18524</th>\n",
       "      <td>YEMEN</td>\n",
       "      <td>TURKIYE</td>\n",
       "      <td>True</td>\n",
       "    </tr>\n",
       "    <tr>\n",
       "      <th>18525</th>\n",
       "      <td>ZAMBIA</td>\n",
       "      <td>ZIMBABWE</td>\n",
       "      <td>False</td>\n",
       "    </tr>\n",
       "    <tr>\n",
       "      <th>18526</th>\n",
       "      <td>ZAMBIA</td>\n",
       "      <td>TURKIYE</td>\n",
       "      <td>True</td>\n",
       "    </tr>\n",
       "    <tr>\n",
       "      <th>18527</th>\n",
       "      <td>ZIMBABWE</td>\n",
       "      <td>TURKIYE</td>\n",
       "      <td>False</td>\n",
       "    </tr>\n",
       "  </tbody>\n",
       "</table>\n",
       "<p>18528 rows × 3 columns</p>\n",
       "</div>"
      ],
      "text/plain": [
       "           Nodes_1              Nodes_2 A/RES/ES-11/1\n",
       "0      AFGHANISTAN              ALBANIA          True\n",
       "1      AFGHANISTAN              ALGERIA         False\n",
       "2      AFGHANISTAN              ANDORRA          True\n",
       "3      AFGHANISTAN               ANGOLA         False\n",
       "4      AFGHANISTAN  ANTIGUA AND BARBUDA          True\n",
       "...            ...                  ...           ...\n",
       "18523        YEMEN             ZIMBABWE         False\n",
       "18524        YEMEN              TURKIYE          True\n",
       "18525       ZAMBIA             ZIMBABWE         False\n",
       "18526       ZAMBIA              TURKIYE          True\n",
       "18527     ZIMBABWE              TURKIYE         False\n",
       "\n",
       "[18528 rows x 3 columns]"
      ]
     },
     "execution_count": 102,
     "metadata": {},
     "output_type": "execute_result"
    }
   ],
   "source": [
    "#\n",
    "# ЗАГРУЗНЫЙ ПРЦЕСС !!!!!\n",
    "#\n",
    "# создаем таблицу ребер сети\n",
    "\n",
    "net_table = pd.DataFrame()\n",
    "\n",
    "# создаем все ребра сети\n",
    "nodes_arr = get_edges(common_table)\n",
    "net_table['Nodes_1'] = nodes_arr[0]\n",
    "net_table['Nodes_2'] = nodes_arr[1]\n",
    "\n",
    "# заполняем результаты голосований\n",
    "for item in common_table.columns: \n",
    "    net_table[item] = get_solid_val(common_table, item)\n",
    "\n",
    "net_table"
   ]
  },
  {
   "cell_type": "code",
   "execution_count": 103,
   "metadata": {},
   "outputs": [
    {
     "data": {
      "text/html": [
       "<div>\n",
       "<style scoped>\n",
       "    .dataframe tbody tr th:only-of-type {\n",
       "        vertical-align: middle;\n",
       "    }\n",
       "\n",
       "    .dataframe tbody tr th {\n",
       "        vertical-align: top;\n",
       "    }\n",
       "\n",
       "    .dataframe thead th {\n",
       "        text-align: right;\n",
       "    }\n",
       "</style>\n",
       "<table border=\"1\" class=\"dataframe\">\n",
       "  <thead>\n",
       "    <tr style=\"text-align: right;\">\n",
       "      <th></th>\n",
       "      <th>Nodes_1</th>\n",
       "      <th>Nodes_2</th>\n",
       "      <th>A/RES/ES-11/1</th>\n",
       "    </tr>\n",
       "  </thead>\n",
       "  <tbody>\n",
       "    <tr>\n",
       "      <th>0</th>\n",
       "      <td>AFGHANISTAN</td>\n",
       "      <td>ALBANIA</td>\n",
       "      <td>True</td>\n",
       "    </tr>\n",
       "    <tr>\n",
       "      <th>1</th>\n",
       "      <td>AFGHANISTAN</td>\n",
       "      <td>ALGERIA</td>\n",
       "      <td>False</td>\n",
       "    </tr>\n",
       "    <tr>\n",
       "      <th>2</th>\n",
       "      <td>AFGHANISTAN</td>\n",
       "      <td>ANDORRA</td>\n",
       "      <td>True</td>\n",
       "    </tr>\n",
       "    <tr>\n",
       "      <th>3</th>\n",
       "      <td>AFGHANISTAN</td>\n",
       "      <td>ANGOLA</td>\n",
       "      <td>False</td>\n",
       "    </tr>\n",
       "    <tr>\n",
       "      <th>4</th>\n",
       "      <td>AFGHANISTAN</td>\n",
       "      <td>ANTIGUA AND BARBUDA</td>\n",
       "      <td>True</td>\n",
       "    </tr>\n",
       "    <tr>\n",
       "      <th>...</th>\n",
       "      <td>...</td>\n",
       "      <td>...</td>\n",
       "      <td>...</td>\n",
       "    </tr>\n",
       "    <tr>\n",
       "      <th>18523</th>\n",
       "      <td>YEMEN</td>\n",
       "      <td>ZIMBABWE</td>\n",
       "      <td>False</td>\n",
       "    </tr>\n",
       "    <tr>\n",
       "      <th>18524</th>\n",
       "      <td>YEMEN</td>\n",
       "      <td>TURKIYE</td>\n",
       "      <td>True</td>\n",
       "    </tr>\n",
       "    <tr>\n",
       "      <th>18525</th>\n",
       "      <td>ZAMBIA</td>\n",
       "      <td>ZIMBABWE</td>\n",
       "      <td>False</td>\n",
       "    </tr>\n",
       "    <tr>\n",
       "      <th>18526</th>\n",
       "      <td>ZAMBIA</td>\n",
       "      <td>TURKIYE</td>\n",
       "      <td>True</td>\n",
       "    </tr>\n",
       "    <tr>\n",
       "      <th>18527</th>\n",
       "      <td>ZIMBABWE</td>\n",
       "      <td>TURKIYE</td>\n",
       "      <td>False</td>\n",
       "    </tr>\n",
       "  </tbody>\n",
       "</table>\n",
       "<p>18528 rows × 3 columns</p>\n",
       "</div>"
      ],
      "text/plain": [
       "           Nodes_1              Nodes_2 A/RES/ES-11/1\n",
       "0      AFGHANISTAN              ALBANIA          True\n",
       "1      AFGHANISTAN              ALGERIA         False\n",
       "2      AFGHANISTAN              ANDORRA          True\n",
       "3      AFGHANISTAN               ANGOLA         False\n",
       "4      AFGHANISTAN  ANTIGUA AND BARBUDA          True\n",
       "...            ...                  ...           ...\n",
       "18523        YEMEN             ZIMBABWE         False\n",
       "18524        YEMEN              TURKIYE          True\n",
       "18525       ZAMBIA             ZIMBABWE         False\n",
       "18526       ZAMBIA              TURKIYE          True\n",
       "18527     ZIMBABWE              TURKIYE         False\n",
       "\n",
       "[18528 rows x 3 columns]"
      ]
     },
     "execution_count": 103,
     "metadata": {},
     "output_type": "execute_result"
    }
   ],
   "source": [
    "net_table_one_vote = pd.DataFrame(net_table)\n",
    "net_table_one_vote"
   ]
  },
  {
   "cell_type": "code",
   "execution_count": 104,
   "metadata": {},
   "outputs": [
    {
     "data": {
      "text/plain": [
       "['Nodes_1', 'Nodes_2', 'A/RES/ES-11/1']"
      ]
     },
     "execution_count": 104,
     "metadata": {},
     "output_type": "execute_result"
    }
   ],
   "source": [
    "list(net_table_one_vote.columns)"
   ]
  },
  {
   "cell_type": "markdown",
   "metadata": {},
   "source": [
    "### Net building"
   ]
  },
  {
   "cell_type": "code",
   "execution_count": 105,
   "metadata": {},
   "outputs": [],
   "source": [
    "from numpy.random import default_rng\n",
    "rng = default_rng()"
   ]
  },
  {
   "cell_type": "code",
   "execution_count": 106,
   "metadata": {},
   "outputs": [
    {
     "data": {
      "text/html": [
       "<div>\n",
       "<style scoped>\n",
       "    .dataframe tbody tr th:only-of-type {\n",
       "        vertical-align: middle;\n",
       "    }\n",
       "\n",
       "    .dataframe tbody tr th {\n",
       "        vertical-align: top;\n",
       "    }\n",
       "\n",
       "    .dataframe thead th {\n",
       "        text-align: right;\n",
       "    }\n",
       "</style>\n",
       "<table border=\"1\" class=\"dataframe\">\n",
       "  <thead>\n",
       "    <tr style=\"text-align: right;\">\n",
       "      <th></th>\n",
       "      <th>Nodes_1</th>\n",
       "      <th>Nodes_2</th>\n",
       "      <th>A/RES/ES-11/1</th>\n",
       "    </tr>\n",
       "  </thead>\n",
       "  <tbody>\n",
       "    <tr>\n",
       "      <th>0</th>\n",
       "      <td>AFGHANISTAN</td>\n",
       "      <td>ALBANIA</td>\n",
       "      <td>1.0</td>\n",
       "    </tr>\n",
       "    <tr>\n",
       "      <th>2</th>\n",
       "      <td>AFGHANISTAN</td>\n",
       "      <td>ANDORRA</td>\n",
       "      <td>1.0</td>\n",
       "    </tr>\n",
       "    <tr>\n",
       "      <th>4</th>\n",
       "      <td>AFGHANISTAN</td>\n",
       "      <td>ANTIGUA AND BARBUDA</td>\n",
       "      <td>1.0</td>\n",
       "    </tr>\n",
       "    <tr>\n",
       "      <th>5</th>\n",
       "      <td>AFGHANISTAN</td>\n",
       "      <td>ARGENTINA</td>\n",
       "      <td>1.0</td>\n",
       "    </tr>\n",
       "    <tr>\n",
       "      <th>7</th>\n",
       "      <td>AFGHANISTAN</td>\n",
       "      <td>AUSTRALIA</td>\n",
       "      <td>1.0</td>\n",
       "    </tr>\n",
       "    <tr>\n",
       "      <th>...</th>\n",
       "      <td>...</td>\n",
       "      <td>...</td>\n",
       "      <td>...</td>\n",
       "    </tr>\n",
       "    <tr>\n",
       "      <th>18512</th>\n",
       "      <td>VANUATU</td>\n",
       "      <td>TURKIYE</td>\n",
       "      <td>1.0</td>\n",
       "    </tr>\n",
       "    <tr>\n",
       "      <th>18520</th>\n",
       "      <td>VIET NAM</td>\n",
       "      <td>ZIMBABWE</td>\n",
       "      <td>1.0</td>\n",
       "    </tr>\n",
       "    <tr>\n",
       "      <th>18522</th>\n",
       "      <td>YEMEN</td>\n",
       "      <td>ZAMBIA</td>\n",
       "      <td>1.0</td>\n",
       "    </tr>\n",
       "    <tr>\n",
       "      <th>18524</th>\n",
       "      <td>YEMEN</td>\n",
       "      <td>TURKIYE</td>\n",
       "      <td>1.0</td>\n",
       "    </tr>\n",
       "    <tr>\n",
       "      <th>18526</th>\n",
       "      <td>ZAMBIA</td>\n",
       "      <td>TURKIYE</td>\n",
       "      <td>1.0</td>\n",
       "    </tr>\n",
       "  </tbody>\n",
       "</table>\n",
       "<p>10475 rows × 3 columns</p>\n",
       "</div>"
      ],
      "text/plain": [
       "           Nodes_1              Nodes_2  A/RES/ES-11/1\n",
       "0      AFGHANISTAN              ALBANIA            1.0\n",
       "2      AFGHANISTAN              ANDORRA            1.0\n",
       "4      AFGHANISTAN  ANTIGUA AND BARBUDA            1.0\n",
       "5      AFGHANISTAN            ARGENTINA            1.0\n",
       "7      AFGHANISTAN            AUSTRALIA            1.0\n",
       "...            ...                  ...            ...\n",
       "18512      VANUATU              TURKIYE            1.0\n",
       "18520     VIET NAM             ZIMBABWE            1.0\n",
       "18522        YEMEN               ZAMBIA            1.0\n",
       "18524        YEMEN              TURKIYE            1.0\n",
       "18526       ZAMBIA              TURKIYE            1.0\n",
       "\n",
       "[10475 rows x 3 columns]"
      ]
     },
     "execution_count": 106,
     "metadata": {},
     "output_type": "execute_result"
    }
   ],
   "source": [
    "net_table_one_vote_weight = net_table_one_vote.replace({True: 1, False: 0})\n",
    "#net_table_weight = net_table\n",
    "\n",
    "# Коцаем табличку\n",
    "#net_table_one_vote_weight.drop([net_table_one_vote_weight.index[x] for x in rng.choice(19109, size=18400, replace=False)], inplace=True)\n",
    "\n",
    "#net_table_one_vote_weight['A/RES/ES-11/5'] = abs(net_table_one_vote_weight[list(net_table_one_vote_weight.columns)[2:]].sum(axis=1))\n",
    "#net_table_weight.drop(list(net_table_weight.columns)[2:-1], inplace=True, axis=1)\n",
    "\n",
    "net_table_one_vote_weight = net_table_one_vote_weight[net_table_one_vote_weight[votes_table_com['Resolution'][resolution_index]] != 0]\n",
    "#net_table_weight = net_table_weight[net_table_weight.Solid_val > 5]\n",
    "net_table_one_vote_weight.dropna(inplace = True)\n",
    "\n",
    "net_table_one_vote_weight"
   ]
  },
  {
   "cell_type": "code",
   "execution_count": 107,
   "metadata": {},
   "outputs": [
    {
     "data": {
      "text/plain": [
       "0        None\n",
       "2        None\n",
       "4        None\n",
       "5        None\n",
       "7        None\n",
       "         ... \n",
       "18512    None\n",
       "18520    None\n",
       "18522    None\n",
       "18524    None\n",
       "18526    None\n",
       "Length: 10475, dtype: object"
      ]
     },
     "execution_count": 107,
     "metadata": {},
     "output_type": "execute_result"
    }
   ],
   "source": [
    "G_one_vote = nx.Graph()\n",
    "#G_one_vote.add_nodes_from(list(net_table_weight_val.index))\n",
    "#net_table_one_vote_weight[0:1000].apply(lambda x: G_one_vote.add_edge(x[0], x[1], weight= x[2]), axis=1)\n",
    "net_table_one_vote_weight.apply(lambda x: G_one_vote.add_edge(x[0], x[1], weight= x[2]), axis=1)"
   ]
  },
  {
   "cell_type": "code",
   "execution_count": 108,
   "metadata": {},
   "outputs": [],
   "source": [
    "#nx.number_connected_components(G)\n",
    "#len(sorted(nx.connected_components(G)))\n",
    "\n",
    "\n",
    "#country_arr_test = list(nx.connected_components(G_one_vote))[2]"
   ]
  },
  {
   "cell_type": "code",
   "execution_count": 109,
   "metadata": {},
   "outputs": [
    {
     "data": {
      "text/plain": [
       "181"
      ]
     },
     "execution_count": 109,
     "metadata": {},
     "output_type": "execute_result"
    }
   ],
   "source": [
    "len(G_one_vote.nodes())"
   ]
  },
  {
   "cell_type": "code",
   "execution_count": 110,
   "metadata": {},
   "outputs": [
    {
     "data": {
      "text/plain": [
       "10475"
      ]
     },
     "execution_count": 110,
     "metadata": {},
     "output_type": "execute_result"
    }
   ],
   "source": [
    "len(G_one_vote.edges())"
   ]
  },
  {
   "cell_type": "code",
   "execution_count": 111,
   "metadata": {},
   "outputs": [
    {
     "data": {
      "image/png": "[encoded data removed]",
      "text/plain": [
       "<Figure size 432x288 with 1 Axes>"
      ]
     },
     "metadata": {},
     "output_type": "display_data"
    }
   ],
   "source": [
    "#figure(figsize=(20, 10))\n",
    "\n",
    "nx.draw_networkx(G_one_vote)"
   ]
  },
  {
   "cell_type": "code",
   "execution_count": 112,
   "metadata": {},
   "outputs": [
    {
     "data": {
      "text/plain": [
       "False"
      ]
     },
     "execution_count": 112,
     "metadata": {},
     "output_type": "execute_result"
    }
   ],
   "source": [
    "nx.is_connected(G_one_vote)"
   ]
  },
  {
   "cell_type": "code",
   "execution_count": 113,
   "metadata": {},
   "outputs": [
    {
     "data": {
      "text/plain": [
       "3"
      ]
     },
     "execution_count": 113,
     "metadata": {},
     "output_type": "execute_result"
    }
   ],
   "source": [
    "nx.number_connected_components(G_one_vote)"
   ]
  },
  {
   "cell_type": "code",
   "execution_count": 115,
   "metadata": {},
   "outputs": [
    {
     "name": "stdout",
     "output_type": "stream",
     "text": [
      "\n",
      "0\n",
      "False\n",
      "\n",
      "{'COLOMBIA', 'TUNISIA', 'OMAN', 'MONACO', 'UNITED ARAB EMIRATES', 'MALTA', 'KIRIBATI', 'GEORGIA', 'SLOVENIA', 'SWITZERLAND', 'ZAMBIA', 'FRANCE', 'REPUBLIC OF MOLDOVA', 'SAN MARINO', 'ECUADOR', 'PARAGUAY', 'KUWAIT', 'NAURU', 'CHAD', 'ITALY', 'BRUNEI DARUSSALAM', 'LATVIA', 'LESOTHO', 'BULGARIA', 'MALAWI', 'NORWAY', 'GRENADA', 'AUSTRIA', 'SAO TOME AND PRINCIPE', 'KENYA', 'ISRAEL', 'GUATEMALA', 'MONTENEGRO', 'MAURITIUS', 'DJIBOUTI', 'SINGAPORE', 'BENIN', 'PALAU', 'BAHRAIN', 'NIGERIA', 'MALAYSIA', 'SERBIA', 'GABON', 'YEMEN', 'MICRONESIA (FEDERATED STATES OF)', 'TURKIYE', 'ALBANIA', 'COMOROS', 'GERMANY', 'BARBADOS', 'SOMALIA', 'NETHERLANDS', 'BHUTAN', 'ESTONIA', 'LIECHTENSTEIN', 'JAPAN', 'NIGER', 'SAINT KITTS AND NEVIS', 'DOMINICA', 'HONDURAS', 'MYANMAR', 'PAPUA NEW GUINEA', 'SPAIN', 'ROMANIA', 'QATAR', 'NEW ZEALAND', 'PANAMA', 'BAHAMAS', 'LIBERIA', 'CAMBODIA', 'LITHUANIA', 'DEMOCRATIC REPUBLIC OF THE CONGO', 'GREECE', 'VANUATU', 'UNITED KINGDOM', 'HAITI', \"CÔTE D'IVOIRE\", 'REPUBLIC OF KOREA', 'BRAZIL', 'GAMBIA', 'AUSTRALIA', 'GHANA', 'SOLOMON ISLANDS', 'ANTIGUA AND BARBUDA', 'SAMOA', 'CANADA', 'TIMOR-LESTE', 'PHILIPPINES', 'SIERRA LEONE', 'PORTUGAL', 'URUGUAY', 'SAINT LUCIA', 'DOMINICAN REPUBLIC', 'CROATIA', 'MAURITANIA', 'GUYANA', 'CABO VERDE', 'MARSHALL ISLANDS', 'SAINT VINCENT AND THE GRENADINES', 'SLOVAKIA', 'THAILAND', 'CZECHIA', 'CHILE', 'CYPRUS', 'BELGIUM', 'IRELAND', 'FIJI', 'INDONESIA', 'NEPAL', 'MALDIVES', 'BOSNIA AND HERZEGOVINA', 'TONGA', 'ANDORRA', 'SAUDI ARABIA', 'LIBYA', 'PERU', 'TUVALU', 'SURINAME', 'JORDAN', 'POLAND', 'JAMAICA', 'SWEDEN', 'HUNGARY', 'LEBANON', 'LUXEMBOURG', 'BELIZE', 'DENMARK', 'BOTSWANA', 'EGYPT', 'UKRAINE', 'ARGENTINA', 'COSTA RICA', 'RWANDA', 'FINLAND', 'MEXICO', 'SEYCHELLES', 'NORTH MACEDONIA', 'AFGHANISTAN', 'ICELAND', 'TRINIDAD AND TOBAGO', 'UNITED STATES'}\n",
      "______________\n",
      "\n",
      "1\n",
      "False\n",
      "\n",
      "{'BURUNDI', 'EQUATORIAL GUINEA', 'BOLIVIA (PLURINATIONAL STATE OF)', 'PAKISTAN', 'SRI LANKA', 'VIET NAM', 'CONGO', 'MONGOLIA', \"LAO PEOPLE'S DEMOCRATIC REPUBLIC\", 'INDIA', 'BANGLADESH', 'ZIMBABWE', 'MADAGASCAR', 'CUBA', 'SENEGAL', 'IRAN (ISLAMIC REPUBLIC OF)', 'NAMIBIA', 'CENTRAL AFRICAN REPUBLIC', 'UGANDA', 'MALI', 'KAZAKHSTAN', 'NICARAGUA', 'TAJIKISTAN', 'IRAQ', 'ANGOLA', 'ALGERIA', 'SOUTH AFRICA', 'ARMENIA', 'KYRGYZSTAN', 'CHINA', 'UNITED REPUBLIC OF TANZANIA', 'EL SALVADOR', 'MOZAMBIQUE', 'SOUTH SUDAN', 'SUDAN'}\n",
      "______________\n",
      "\n",
      "2\n",
      "True\n",
      "\n",
      "{'ERITREA', 'BELARUS', \"DEMOCRATIC PEOPLE'S REPUBLIC OF KOREA\", 'RUSSIAN FEDERATION', 'SYRIAN ARAB REPUBLIC'}\n",
      "______________\n"
     ]
    }
   ],
   "source": [
    "country_name = 'RUSSIAN FEDERATION'\n",
    "#country_name = 'LESOTHO'\n",
    "#country_name = 'NICARAGUA'\n",
    "\n",
    "for index in range (0, len(list(nx.connected_components(G_one_vote)))):\n",
    "    print('')\n",
    "    print(index)\n",
    "    \n",
    "    if country_name in list(nx.connected_components(G_one_vote))[index]: print('True')\n",
    "    else: print('False')\n",
    "        \n",
    "    print('')\n",
    "    \n",
    "    country_arr_test = list(nx.connected_components(G_one_vote))[index]\n",
    "    print(country_arr_test)\n",
    "    print('______________')"
   ]
  },
  {
   "cell_type": "code",
   "execution_count": 116,
   "metadata": {},
   "outputs": [
    {
     "data": {
      "text/html": [
       "<div>\n",
       "<style scoped>\n",
       "    .dataframe tbody tr th:only-of-type {\n",
       "        vertical-align: middle;\n",
       "    }\n",
       "\n",
       "    .dataframe tbody tr th {\n",
       "        vertical-align: top;\n",
       "    }\n",
       "\n",
       "    .dataframe thead th {\n",
       "        text-align: right;\n",
       "    }\n",
       "</style>\n",
       "<table border=\"1\" class=\"dataframe\">\n",
       "  <thead>\n",
       "    <tr style=\"text-align: right;\">\n",
       "      <th></th>\n",
       "      <th>A/RES/ES-11/1</th>\n",
       "    </tr>\n",
       "    <tr>\n",
       "      <th>Country</th>\n",
       "      <th></th>\n",
       "    </tr>\n",
       "  </thead>\n",
       "  <tbody>\n",
       "    <tr>\n",
       "      <th>ERITREA</th>\n",
       "      <td>-1.0</td>\n",
       "    </tr>\n",
       "  </tbody>\n",
       "</table>\n",
       "</div>"
      ],
      "text/plain": [
       "         A/RES/ES-11/1\n",
       "Country               \n",
       "ERITREA           -1.0"
      ]
     },
     "execution_count": 116,
     "metadata": {},
     "output_type": "execute_result"
    }
   ],
   "source": [
    "common_table[common_table.index == 'ERITREA']"
   ]
  },
  {
   "cell_type": "code",
   "execution_count": null,
   "metadata": {},
   "outputs": [],
   "source": []
  }
 ],
 "metadata": {
  "kernelspec": {
   "display_name": "Python 3",
   "language": "python",
   "name": "python3"
  },
  "language_info": {
   "codemirror_mode": {
    "name": "ipython",
    "version": 3
   },
   "file_extension": ".py",
   "mimetype": "text/x-python",
   "name": "python",
   "nbconvert_exporter": "python",
   "pygments_lexer": "ipython3",
   "version": "3.8.5"
  }
 },
 "nbformat": 4,
 "nbformat_minor": 4
}
